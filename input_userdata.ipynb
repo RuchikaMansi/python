{
  "nbformat": 4,
  "nbformat_minor": 0,
  "metadata": {
    "colab": {
      "provenance": [],
      "authorship_tag": "ABX9TyMcUPTxgdex/biXeXgdTA+Q",
      "include_colab_link": true
    },
    "kernelspec": {
      "name": "python3",
      "display_name": "Python 3"
    },
    "language_info": {
      "name": "python"
    }
  },
  "cells": [
    {
      "cell_type": "markdown",
      "metadata": {
        "id": "view-in-github",
        "colab_type": "text"
      },
      "source": [
        "<a href=\"https://colab.research.google.com/github/RuchikaMansi/ruchu263/blob/main/input_userdata.ipynb\" target=\"_parent\"><img src=\"https://colab.research.google.com/assets/colab-badge.svg\" alt=\"Open In Colab\"/></a>"
      ]
    },
    {
      "cell_type": "code",
      "execution_count": null,
      "metadata": {
        "colab": {
          "base_uri": "https://localhost:8080/"
        },
        "id": "f1Sa31qpN4Za",
        "outputId": "fe08bb48-2c5e-45f8-f6fa-7fc9b06628fd"
      },
      "outputs": [
        {
          "output_type": "stream",
          "name": "stdout",
          "text": [
            "Collecting mysql-connector-python\n",
            "  Downloading mysql_connector_python-8.3.0-cp310-cp310-manylinux_2_17_x86_64.whl (21.5 MB)\n",
            "\u001b[2K     \u001b[90m━━━━━━━━━━━━━━━━━━━━━━━━━━━━━━━━━━━━━━━━\u001b[0m \u001b[32m21.5/21.5 MB\u001b[0m \u001b[31m63.1 MB/s\u001b[0m eta \u001b[36m0:00:00\u001b[0m\n",
            "\u001b[?25hInstalling collected packages: mysql-connector-python\n",
            "Successfully installed mysql-connector-python-8.3.0\n"
          ]
        }
      ],
      "source": [
        "!pip install mysql-connector-python"
      ]
    },
    {
      "cell_type": "code",
      "source": [
        "!apt-get -y install mysql-server"
      ],
      "metadata": {
        "id": "GixzR10LOAM_"
      },
      "execution_count": null,
      "outputs": []
    },
    {
      "cell_type": "code",
      "source": [
        "! sudo service mysql start"
      ],
      "metadata": {
        "id": "Rz_Fqa7xOAjl"
      },
      "execution_count": null,
      "outputs": []
    },
    {
      "cell_type": "code",
      "source": [
        "! sudo service mysql status"
      ],
      "metadata": {
        "colab": {
          "base_uri": "https://localhost:8080/"
        },
        "id": "m0KqOwwXOA7q",
        "outputId": "e6937b2e-d748-4234-8f41-735d17370605"
      },
      "execution_count": null,
      "outputs": [
        {
          "output_type": "stream",
          "name": "stdout",
          "text": [
            " * /usr/bin/mysqladmin  Ver 8.0.36-0ubuntu0.22.04.1 for Linux on x86_64 ((Ubuntu))\n",
            "Copyright (c) 2000, 2024, Oracle and/or its affiliates.\n",
            "\n",
            "Oracle is a registered trademark of Oracle Corporation and/or its\n",
            "affiliates. Other names may be trademarks of their respective\n",
            "owners.\n",
            "\n",
            "Server version\t\t8.0.36-0ubuntu0.22.04.1\n",
            "Protocol version\t10\n",
            "Connection\t\tLocalhost via UNIX socket\n",
            "UNIX socket\t\t/var/run/mysqld/mysqld.sock\n",
            "Uptime:\t\t\t6 sec\n",
            "\n",
            "Threads: 2  Questions: 8  Slow queries: 0  Opens: 119  Flush tables: 3  Open tables: 38  Queries per second avg: 1.333\n"
          ]
        }
      ]
    },
    {
      "cell_type": "code",
      "source": [
        "import mysql.connector\n",
        "\n",
        "# Create a connection to the MySQL server\n",
        "conn = mysql.connector.connect(user='root', password='root',unix_socket='/var/run/mysqld/mysqld.sock')\n",
        "\n",
        "# Create a cursor to interact with the MySQL server\n",
        "cursor = conn.cursor()"
      ],
      "metadata": {
        "id": "yFqI1DJROBYo"
      },
      "execution_count": null,
      "outputs": []
    },
    {
      "cell_type": "code",
      "source": [
        "cursor.execute(\"CREATE DATABASE IF NOT EXISTS userinfo\")\n",
        "\n",
        "# Switch to the 'user-info' database\n",
        "cursor.execute(\"USE userinfo\")\n",
        "\n",
        "# Create the 'user' table\n",
        "cursor.execute('''\n",
        "CREATE TABLE IF NOT EXISTS user(\n",
        "    id INT AUTO_INCREMENT PRIMARY KEY,\n",
        "    name VARCHAR(255) NOT NULL,\n",
        "    email VARCHAR(255) NOT NULL,\n",
        "    age INT\n",
        ")\n",
        "''')\n",
        "\n",
        "# Always remember to close the cursor and connection when done\n",
        "cursor.close()\n",
        "conn.close()"
      ],
      "metadata": {
        "id": "cGzczgtLPiFV"
      },
      "execution_count": null,
      "outputs": []
    },
    {
      "cell_type": "code",
      "source": [
        "import mysql.connector\n",
        "\n",
        "# Connect to the MySQL server and the 'userinfo' database\n",
        "conn = mysql.connector.connect(user='root', password='root',unix_socket='/var/run/mysqld/mysqld.sock', database='userinfo')\n",
        "cursor = conn.cursor()\n",
        "\n",
        "user_data = [\n",
        "    (\"1\",\"ruhh yadav\",\"ruh@gmail.com\",\"21\"),\n",
        "    (\"2\", \"payal singh\",\"payal@gmail.com\",\"18\"),\n",
        "    (\"3\", \"khushi\", \"khushi@gmail.com\",\"21\")\n",
        "]\n",
        "\n",
        "# Insert data using the cursor\n",
        "cursor.executemany('''\n",
        "INSERT INTO user(id, name, email,age) VALUES (%s, %s, %s, %s)\n",
        "''', user_data)\n",
        "\n",
        "# Commit the changes\n",
        "conn.commit()\n",
        "cursor.execute(\"SELECT * FROM user\")\n",
        "\n",
        "# Fetch all the results\n",
        "records = cursor.fetchall()\n",
        "\n",
        "# Print the records\n",
        "for record in records:\n",
        "    print(record)\n",
        "\n",
        "# Close the cursor and connection\n",
        "cursor.close()\n",
        "conn.close()"
      ],
      "metadata": {
        "colab": {
          "base_uri": "https://localhost:8080/"
        },
        "id": "RPm8sG8zRtam",
        "outputId": "5082ed60-58eb-453c-8437-4bb7d90b3764"
      },
      "execution_count": null,
      "outputs": [
        {
          "output_type": "stream",
          "name": "stdout",
          "text": [
            "(1, 'ruhh yadav', 'ruh@gmail.com', 21)\n",
            "(2, 'payal singh', 'payal@gmail.com', 18)\n",
            "(3, 'khushi', 'khushi@gmail.com', 21)\n"
          ]
        }
      ]
    }
  ]
}