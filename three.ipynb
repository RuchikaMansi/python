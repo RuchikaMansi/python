{
  "nbformat": 4,
  "nbformat_minor": 0,
  "metadata": {
    "colab": {
      "provenance": [],
      "authorship_tag": "ABX9TyNj9s/Y4d5nu6iaPj2wtXAX",
      "include_colab_link": true
    },
    "kernelspec": {
      "name": "python3",
      "display_name": "Python 3"
    },
    "language_info": {
      "name": "python"
    }
  },
  "cells": [
    {
      "cell_type": "markdown",
      "metadata": {
        "id": "view-in-github",
        "colab_type": "text"
      },
      "source": [
        "<a href=\"https://colab.research.google.com/github/RuchikaMansi/python/blob/main/three.ipynb\" target=\"_parent\"><img src=\"https://colab.research.google.com/assets/colab-badge.svg\" alt=\"Open In Colab\"/></a>"
      ]
    },
    {
      "cell_type": "code",
      "source": [
        "a=input()\n",
        "a=int(a)\n",
        "b=input()\n",
        "b=int(b)\n",
        "c=input()\n",
        "c=int(c)\n",
        "if a>b and b<c:\n",
        "  print('condition true')\n",
        "else:\n",
        " print('condition false')"
      ],
      "metadata": {
        "colab": {
          "base_uri": "https://localhost:8080/"
        },
        "id": "uE7OBsIy5Q0W",
        "outputId": "e53d2b65-5a5b-4068-c243-b692557d67c5"
      },
      "execution_count": 2,
      "outputs": [
        {
          "output_type": "stream",
          "name": "stdout",
          "text": [
            "7\n",
            "5\n",
            "3\n",
            "condition false\n"
          ]
        }
      ]
    }
  ]
}