{
  "nbformat": 4,
  "nbformat_minor": 0,
  "metadata": {
    "colab": {
      "provenance": [],
      "authorship_tag": "ABX9TyO3cIBZ5tMQF6WQ4LVfUtvq",
      "include_colab_link": true
    },
    "kernelspec": {
      "name": "python3",
      "display_name": "Python 3"
    },
    "language_info": {
      "name": "python"
    }
  },
  "cells": [
    {
      "cell_type": "markdown",
      "metadata": {
        "id": "view-in-github",
        "colab_type": "text"
      },
      "source": [
        "<a href=\"https://colab.research.google.com/github/RuchikaMansi/ruchu263/blob/main/dup.ipynb\" target=\"_parent\"><img src=\"https://colab.research.google.com/assets/colab-badge.svg\" alt=\"Open In Colab\"/></a>"
      ]
    },
    {
      "cell_type": "code",
      "execution_count": 10,
      "metadata": {
        "id": "yc8JMirhdBYl",
        "colab": {
          "base_uri": "https://localhost:8080/"
        },
        "outputId": "fcdd6eb7-596d-40c7-a8cd-14e3cb78c220"
      },
      "outputs": [
        {
          "output_type": "stream",
          "name": "stdout",
          "text": [
            "haha\n",
            "['h', 'a'] = 2\n"
          ]
        }
      ],
      "source": [
        "string = input()\n",
        "x=[]\n",
        "count = 1\n",
        "count= count+1\n",
        "for ch in string:\n",
        "  if string.count(ch)>1 and ch not in x:\n",
        "    x.append(ch)\n",
        "print(x,\"=\",count)"
      ]
    }
  ]
}