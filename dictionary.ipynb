{
  "nbformat": 4,
  "nbformat_minor": 0,
  "metadata": {
    "colab": {
      "provenance": [],
      "authorship_tag": "ABX9TyP8duhytncedw1BpXQIcbPT",
      "include_colab_link": true
    },
    "kernelspec": {
      "name": "python3",
      "display_name": "Python 3"
    },
    "language_info": {
      "name": "python"
    }
  },
  "cells": [
    {
      "cell_type": "markdown",
      "metadata": {
        "id": "view-in-github",
        "colab_type": "text"
      },
      "source": [
        "<a href=\"https://colab.research.google.com/github/RuchikaMansi/ruchu263/blob/main/dictionary.ipynb\" target=\"_parent\"><img src=\"https://colab.research.google.com/assets/colab-badge.svg\" alt=\"Open In Colab\"/></a>"
      ]
    },
    {
      "cell_type": "code",
      "execution_count": null,
      "metadata": {
        "colab": {
          "base_uri": "https://localhost:8080/"
        },
        "id": "xgxUur-8BCWR",
        "outputId": "e1305dfd-abb1-48d3-a0fb-fe10655e5d8e"
      },
      "outputs": [
        {
          "output_type": "execute_result",
          "data": {
            "text/plain": [
              "{1, 2, 4, 5}"
            ]
          },
          "metadata": {},
          "execution_count": 3
        }
      ],
      "source": [
        "tuple={1,2,3}\n",
        "tuples={3,4,5}\n",
        "tuple.symmetric_difference(tuples)\n"
      ]
    },
    {
      "cell_type": "code",
      "source": [
        "user={\"name\":\"ruhh\",\"age\":\"\",\"class\":\"\"}\n",
        "user[\"name\"]"
      ],
      "metadata": {
        "colab": {
          "base_uri": "https://localhost:8080/",
          "height": 35
        },
        "id": "G4pqQtUTBMsd",
        "outputId": "0f3209bc-376c-482e-905a-961641c6c5ad"
      },
      "execution_count": null,
      "outputs": [
        {
          "output_type": "execute_result",
          "data": {
            "text/plain": [
              "'ruhh'"
            ],
            "application/vnd.google.colaboratory.intrinsic+json": {
              "type": "string"
            }
          },
          "metadata": {},
          "execution_count": 5
        }
      ]
    },
    {
      "cell_type": "code",
      "source": [
        "user={\"name\":\"rhu\",\"age\":\"\",\"name\":\"manu\"}\n",
        "user[\"name\"]"
      ],
      "metadata": {
        "colab": {
          "base_uri": "https://localhost:8080/",
          "height": 35
        },
        "id": "DBcJCzVSFTPb",
        "outputId": "b08058a3-4012-43f5-fa4e-c42e7a5a9845"
      },
      "execution_count": null,
      "outputs": [
        {
          "output_type": "execute_result",
          "data": {
            "text/plain": [
              "'manu'"
            ],
            "application/vnd.google.colaboratory.intrinsic+json": {
              "type": "string"
            }
          },
          "metadata": {},
          "execution_count": 6
        }
      ]
    },
    {
      "cell_type": "code",
      "source": [
        "user={\"name\":\"ruhh\",\"age\":\"\",\"class\":\"\"}\n",
        "user.keys()\n"
      ],
      "metadata": {
        "colab": {
          "base_uri": "https://localhost:8080/"
        },
        "id": "qwx6bXZvGJOa",
        "outputId": "1374adaa-a2b7-4e15-dec3-2f91b5505b67"
      },
      "execution_count": null,
      "outputs": [
        {
          "output_type": "execute_result",
          "data": {
            "text/plain": [
              "dict_keys(['name', 'age', 'class'])"
            ]
          },
          "metadata": {},
          "execution_count": 14
        }
      ]
    },
    {
      "cell_type": "code",
      "source": [
        "user={\"name\":\"ruhh\",\"age\":\"\",\"class\":\"\"}\n",
        "user.values()\n"
      ],
      "metadata": {
        "colab": {
          "base_uri": "https://localhost:8080/"
        },
        "id": "f1fM9shMHKgh",
        "outputId": "18dc15d6-70bb-4b61-bd86-463bc035b7f7"
      },
      "execution_count": null,
      "outputs": [
        {
          "output_type": "execute_result",
          "data": {
            "text/plain": [
              "dict_values(['ruhh', '', ''])"
            ]
          },
          "metadata": {},
          "execution_count": 15
        }
      ]
    },
    {
      "cell_type": "code",
      "source": [
        "user={\"name\":\"ruhh\",\"age\":\"\",\"class\":\"\"}\n",
        "for key ,value in user.items():\n",
        "  print(key)\n",
        "  print(value)\n",
        "\n",
        "\n"
      ],
      "metadata": {
        "colab": {
          "base_uri": "https://localhost:8080/"
        },
        "id": "m_Dcox_eHWEE",
        "outputId": "5cc4b1bf-907d-4c94-f389-6ff49dc6b0a4"
      },
      "execution_count": null,
      "outputs": [
        {
          "output_type": "stream",
          "name": "stdout",
          "text": [
            "name\n",
            "ruhh\n",
            "age\n",
            "\n",
            "class\n",
            "\n"
          ]
        }
      ]
    },
    {
      "cell_type": "code",
      "source": [
        "user={\"name\":\"ruhh\",\"age\":\"\",\"class\":\"\"}\n",
        "user.update({\"name\":\"payal\"})\n",
        "print(user)\n"
      ],
      "metadata": {
        "colab": {
          "base_uri": "https://localhost:8080/"
        },
        "id": "Cszy6_L0ILYZ",
        "outputId": "45776725-f31d-4d49-d7ee-09eca11fab30"
      },
      "execution_count": null,
      "outputs": [
        {
          "output_type": "stream",
          "name": "stdout",
          "text": [
            "{'name': 'payal', 'age': '', 'class': ''}\n"
          ]
        }
      ]
    },
    {
      "cell_type": "code",
      "source": [
        "user={\"name\":\"ruhh\",\"age\":\"\",\"class\":\"\"}\n",
        "users={\"name\":\"payal\"}\n",
        "user.update(users)\n",
        "print(user)\n"
      ],
      "metadata": {
        "colab": {
          "base_uri": "https://localhost:8080/"
        },
        "id": "8DLnlnWiI3KK",
        "outputId": "92d39829-7966-49fa-ef03-bc9f7dde9e29"
      },
      "execution_count": null,
      "outputs": [
        {
          "output_type": "stream",
          "name": "stdout",
          "text": [
            "{'name': 'payal', 'age': '', 'class': ''}\n"
          ]
        }
      ]
    },
    {
      "cell_type": "code",
      "source": [
        "user={\"name\":\"ruhh\",\"age\":\"\",\"class\":\"\"}\n",
        "user.pop('name')\n",
        "print(user)\n"
      ],
      "metadata": {
        "colab": {
          "base_uri": "https://localhost:8080/"
        },
        "id": "2kx9nMZrJvEW",
        "outputId": "cecd1035-988d-4109-c454-6e229648686f"
      },
      "execution_count": null,
      "outputs": [
        {
          "output_type": "stream",
          "name": "stdout",
          "text": [
            "{'age': '', 'class': ''}\n"
          ]
        }
      ]
    },
    {
      "cell_type": "code",
      "source": [
        "user={\"name\":\"ruhh\",\"age\":\"\",\"class\":\"\"}\n",
        "user.popitem()\n",
        "print(user)\n"
      ],
      "metadata": {
        "colab": {
          "base_uri": "https://localhost:8080/"
        },
        "id": "jq0heK-jKEnc",
        "outputId": "9778f181-3f28-4d7c-88fe-ca07af7130ff"
      },
      "execution_count": null,
      "outputs": [
        {
          "output_type": "stream",
          "name": "stdout",
          "text": [
            "{'name': 'ruhh', 'age': ''}\n"
          ]
        }
      ]
    },
    {
      "cell_type": "code",
      "source": [
        "user={\"name\":\"ruhh\",\"age\":\"\",\"class\":\"\"}\n",
        "del user['name']\n",
        "print(user)\n",
        "\n",
        "\n",
        "\n",
        "\n"
      ],
      "metadata": {
        "colab": {
          "base_uri": "https://localhost:8080/"
        },
        "id": "uzB_NWN2Ka4t",
        "outputId": "7f3dd735-3dab-40bc-f5ce-a3846a874fab"
      },
      "execution_count": null,
      "outputs": [
        {
          "output_type": "stream",
          "name": "stdout",
          "text": [
            "{'age': '', 'class': ''}\n"
          ]
        }
      ]
    },
    {
      "cell_type": "code",
      "source": [
        "test_list = [\n",
        "    {'Course': \"C++\", 'Author': \"Jerry\"},\n",
        "    {'Course': \"Python\", 'Author': \"Mark\"},\n",
        "    {'Course': \"Java\", 'Author': \"Paul\"}]\n",
        "\n",
        "\n",
        "res = 0\n",
        "for i in test_list:\n",
        "    if i['Author'] == \"Mark\":\n",
        "        res = i\n",
        "        break\n",
        "\n",
        "print(\"The filtered dictionary value is : \" + str(res))"
      ],
      "metadata": {
        "id": "7il3oun1NTAp",
        "colab": {
          "base_uri": "https://localhost:8080/"
        },
        "outputId": "6f1de8f4-d738-4919-871c-9224115558ca"
      },
      "execution_count": 4,
      "outputs": [
        {
          "output_type": "stream",
          "name": "stdout",
          "text": [
            "The filtered dictionary value is : {'Course': 'Python', 'Author': 'Mark'}\n"
          ]
        }
      ]
    }
  ]
}