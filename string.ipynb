{
  "nbformat": 4,
  "nbformat_minor": 0,
  "metadata": {
    "colab": {
      "provenance": [],
      "authorship_tag": "ABX9TyNgGroCpTbvn4T88ukzQ2yr",
      "include_colab_link": true
    },
    "kernelspec": {
      "name": "python3",
      "display_name": "Python 3"
    },
    "language_info": {
      "name": "python"
    }
  },
  "cells": [
    {
      "cell_type": "markdown",
      "metadata": {
        "id": "view-in-github",
        "colab_type": "text"
      },
      "source": [
        "<a href=\"https://colab.research.google.com/github/RuchikaMansi/ruchu263/blob/main/string.ipynb\" target=\"_parent\"><img src=\"https://colab.research.google.com/assets/colab-badge.svg\" alt=\"Open In Colab\"/></a>"
      ]
    },
    {
      "cell_type": "code",
      "source": [
        "a=\"ruhh\"\n",
        "b=len(a)\n",
        "str=\"\"\n",
        "while b>0:\n",
        "  b-=1\n",
        "  str+=a[b]\n",
        "print(str)\n"
      ],
      "metadata": {
        "colab": {
          "base_uri": "https://localhost:8080/"
        },
        "id": "owAGc4vzQjg4",
        "outputId": "4e60158c-3ddf-40d8-f710-6e5a30fe48b4"
      },
      "execution_count": null,
      "outputs": [
        {
          "output_type": "stream",
          "name": "stdout",
          "text": [
            "hhur\n"
          ]
        }
      ]
    },
    {
      "cell_type": "code",
      "source": [
        "str=\"my name is\"\n",
        "str.split()\n",
        "res=str.split()\n",
        "res[0]\n",
        "res[1]\n",
        "res[2]\n",
        "print(res)\n",
        "\n",
        "\n"
      ],
      "metadata": {
        "colab": {
          "base_uri": "https://localhost:8080/"
        },
        "id": "WUvxJmq1UI1o",
        "outputId": "a0e84d37-b32a-4a17-8e27-484eea48f712"
      },
      "execution_count": 10,
      "outputs": [
        {
          "output_type": "stream",
          "name": "stdout",
          "text": [
            "['my', 'name', 'is']\n"
          ]
        }
      ]
    },
    {
      "cell_type": "code",
      "source": [
        "a=\"my name is\"\n",
        "res=a.split()\n",
        "for  res in range(0,len(a)):\n",
        "  print(res)\n",
        "\n"
      ],
      "metadata": {
        "colab": {
          "base_uri": "https://localhost:8080/"
        },
        "id": "Ja0JQUM8XKMR",
        "outputId": "7ade7f50-60a6-4675-ac26-c9472ab8928f"
      },
      "execution_count": 12,
      "outputs": [
        {
          "output_type": "stream",
          "name": "stdout",
          "text": [
            "0\n",
            "1\n",
            "2\n",
            "3\n",
            "4\n",
            "5\n",
            "6\n",
            "7\n",
            "8\n",
            "9\n"
          ]
        }
      ]
    },
    {
      "cell_type": "code",
      "source": [
        "str=input(\"enter the string:\")\n",
        "odd_list= []\n",
        "for i in range(0,len(str)):\n",
        " if i % 2 != 0:\n",
        "  print(\"odd part \" + str[i])\n",
        "  odd_list.append(str[i])\n",
        "else:\n",
        "  print()\n",
        "\n",
        "\n",
        "\n"
      ],
      "metadata": {
        "id": "czGotxVlhJtL",
        "colab": {
          "base_uri": "https://localhost:8080/"
        },
        "outputId": "e5cd5c59-8220-4e88-9433-a4cfd2ad7bfd"
      },
      "execution_count": 27,
      "outputs": [
        {
          "output_type": "stream",
          "name": "stdout",
          "text": [
            "enter the string:hello\n",
            "odd part e\n",
            "odd part l\n",
            "\n"
          ]
        }
      ]
    }
  ]
}