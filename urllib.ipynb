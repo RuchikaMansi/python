{
  "nbformat": 4,
  "nbformat_minor": 0,
  "metadata": {
    "colab": {
      "provenance": [],
      "authorship_tag": "ABX9TyOssQH5wE9dL/bzu1cUDgEy",
      "include_colab_link": true
    },
    "kernelspec": {
      "name": "python3",
      "display_name": "Python 3"
    },
    "language_info": {
      "name": "python"
    }
  },
  "cells": [
    {
      "cell_type": "markdown",
      "metadata": {
        "id": "view-in-github",
        "colab_type": "text"
      },
      "source": [
        "<a href=\"https://colab.research.google.com/github/RuchikaMansi/ruchu263/blob/main/urllib.ipynb\" target=\"_parent\"><img src=\"https://colab.research.google.com/assets/colab-badge.svg\" alt=\"Open In Colab\"/></a>"
      ]
    },
    {
      "cell_type": "code",
      "source": [
        "!pip install urllib3"
      ],
      "metadata": {
        "colab": {
          "base_uri": "https://localhost:8080/"
        },
        "id": "AJcOwsrmxIyX",
        "outputId": "e4cb0a28-abf9-4355-faf5-26fed1231571"
      },
      "execution_count": null,
      "outputs": [
        {
          "output_type": "stream",
          "name": "stdout",
          "text": [
            "Requirement already satisfied: urllib3 in /usr/local/lib/python3.10/dist-packages (2.0.7)\n"
          ]
        }
      ]
    },
    {
      "cell_type": "code",
      "source": [
        "import requests\n",
        "\n",
        "x = requests.get('https://reqres.in/api/users?page=2')\n",
        "\n",
        "print(x.text)\n"
      ],
      "metadata": {
        "colab": {
          "base_uri": "https://localhost:8080/"
        },
        "id": "Dmn-YUMvxcGl",
        "outputId": "daec7960-50d1-42da-cd31-68bc26e1c87b"
      },
      "execution_count": null,
      "outputs": [
        {
          "output_type": "stream",
          "name": "stdout",
          "text": [
            "{\"page\":2,\"per_page\":6,\"total\":12,\"total_pages\":2,\"data\":[{\"id\":7,\"email\":\"michael.lawson@reqres.in\",\"first_name\":\"Michael\",\"last_name\":\"Lawson\",\"avatar\":\"https://reqres.in/img/faces/7-image.jpg\"},{\"id\":8,\"email\":\"lindsay.ferguson@reqres.in\",\"first_name\":\"Lindsay\",\"last_name\":\"Ferguson\",\"avatar\":\"https://reqres.in/img/faces/8-image.jpg\"},{\"id\":9,\"email\":\"tobias.funke@reqres.in\",\"first_name\":\"Tobias\",\"last_name\":\"Funke\",\"avatar\":\"https://reqres.in/img/faces/9-image.jpg\"},{\"id\":10,\"email\":\"byron.fields@reqres.in\",\"first_name\":\"Byron\",\"last_name\":\"Fields\",\"avatar\":\"https://reqres.in/img/faces/10-image.jpg\"},{\"id\":11,\"email\":\"george.edwards@reqres.in\",\"first_name\":\"George\",\"last_name\":\"Edwards\",\"avatar\":\"https://reqres.in/img/faces/11-image.jpg\"},{\"id\":12,\"email\":\"rachel.howell@reqres.in\",\"first_name\":\"Rachel\",\"last_name\":\"Howell\",\"avatar\":\"https://reqres.in/img/faces/12-image.jpg\"}],\"support\":{\"url\":\"https://reqres.in/#support-heading\",\"text\":\"To keep ReqRes free, contributions towards server costs are appreciated!\"}}\n"
          ]
        }
      ]
    },
    {
      "cell_type": "code",
      "source": [
        "import urllib.request\n",
        "\n",
        "weburl = urllib.request.urlopen('https://reqres.in/api/users?page=2')\n",
        "\n",
        "print(\"result: \",(weburl.status),weburl.read(),weburl.info)"
      ],
      "metadata": {
        "id": "5ECJsQRr0SUD"
      },
      "execution_count": null,
      "outputs": []
    },
    {
      "cell_type": "code",
      "source": [
        "import requests\n",
        "\n",
        "url = 'https://www.w3schools.com/python/demopage.php'\n",
        "myobj = {'somekey': 'somevalue'}\n",
        "x = requests.post(url, data=json.dumps(myobj))\n",
        "\n",
        "print(x.text)"
      ],
      "metadata": {
        "id": "J8gOcbHT1pjr"
      },
      "execution_count": null,
      "outputs": []
    },
    {
      "cell_type": "code",
      "source": [
        "import requests\n",
        "res = requests.post('https://reqres.in/api/users?page=2',\n",
        "                    json={'p1':'MR Moo'})\n",
        "\n",
        "print(res.text)"
      ],
      "metadata": {
        "colab": {
          "base_uri": "https://localhost:8080/"
        },
        "id": "HyYiK9p-cXl_",
        "outputId": "c64624e9-cea3-48be-e71e-9e5636d1bde9"
      },
      "execution_count": null,
      "outputs": [
        {
          "output_type": "stream",
          "name": "stdout",
          "text": [
            "{\"p1\":\"MR Moo\",\"id\":\"245\",\"createdAt\":\"2024-02-15T01:50:17.432Z\"}\n"
          ]
        }
      ]
    },
    {
      "cell_type": "code",
      "source": [
        "import requests\n",
        "import json\n",
        "data = {'user':'me@example.com'}\n",
        "res = requests.post('https://reqres.in/api/users/2',\n",
        "                   data = json.dumps(data))\n",
        "print(\"result: \",(res.headers))\n",
        "print(res.text)"
      ],
      "metadata": {
        "colab": {
          "base_uri": "https://localhost:8080/"
        },
        "id": "vUTqT6wKdpp4",
        "outputId": "ade7e3e3-b338-47cd-8837-e2b5d1ecb25c"
      },
      "execution_count": null,
      "outputs": [
        {
          "output_type": "stream",
          "name": "stdout",
          "text": [
            "result:  {'Date': 'Thu, 15 Feb 2024 01:58:58 GMT', 'Content-Type': 'application/json; charset=utf-8', 'Content-Length': '51', 'Connection': 'keep-alive', 'Report-To': '{\"group\":\"heroku-nel\",\"max_age\":3600,\"endpoints\":[{\"url\":\"https://nel.heroku.com/reports?ts=1707962338&sid=c4c9725f-1ab0-44d8-820f-430df2718e11&s=w7bB606Rhbcu6wDiBFQsWeQeCJN3ulSeW%2Fz6Q0Zzhns%3D\"}]}', 'Reporting-Endpoints': 'heroku-nel=https://nel.heroku.com/reports?ts=1707962338&sid=c4c9725f-1ab0-44d8-820f-430df2718e11&s=w7bB606Rhbcu6wDiBFQsWeQeCJN3ulSeW%2Fz6Q0Zzhns%3D', 'Nel': '{\"report_to\":\"heroku-nel\",\"max_age\":3600,\"success_fraction\":0.005,\"failure_fraction\":0.05,\"response_headers\":[\"Via\"]}', 'X-Powered-By': 'Express', 'Access-Control-Allow-Origin': '*', 'Etag': 'W/\"33-BqOy8whlIopbVQYBQQTpXfzkWHQ\"', 'Via': '1.1 vegur', 'CF-Cache-Status': 'DYNAMIC', 'Server': 'cloudflare', 'CF-RAY': '8559f2e5bc446576-AMS'}\n",
            "{\"id\":\"257\",\"createdAt\":\"2024-02-15T01:58:58.234Z\"}\n"
          ]
        }
      ]
    },
    {
      "cell_type": "code",
      "source": [
        "import json\n",
        "\n",
        "json_data = '[{\"Employee ID\":1,\"Name\":\"Abhishek\",\"Designation\":\"Software Engineer\"},' \\\n",
        "            '{\"Employee ID\":2,\"Name\":\"Garima\",\"Designation\":\"Email Marketing Specialist\"}]'\n",
        "\n",
        "json_object = json.loads(json_data)\n",
        "\n",
        "# Indent keyword while dumping the\n",
        "# data decides to what level\n",
        "# spaces the user wants.\n",
        "print(json_object[1][\"Designation\"])\n",
        "\n",
        "# Difference in the spaces\n",
        "# near the brackets can be seen\n",
        "# print(json.dumps(json_object, indent = 3))"
      ],
      "metadata": {
        "colab": {
          "base_uri": "https://localhost:8080/"
        },
        "id": "SLxjuVHE6azL",
        "outputId": "86da7104-a82f-4e04-90a3-f925e651c1c1"
      },
      "execution_count": null,
      "outputs": [
        {
          "output_type": "stream",
          "name": "stdout",
          "text": [
            "Email Marketing Specialist\n"
          ]
        }
      ]
    },
    {
      "cell_type": "code",
      "source": [
        "import json\n",
        "\n",
        "json_data = '[{\"Employee ID\":1,\"Name\":\"Abhishek\",\"Designation\":\"Software Engineer\"},' \\\n",
        "            '{\"Employee ID\":2,\"Name\":\"Garima\",\"Designation\":\"Email Marketing Specialist\"}]'\n",
        "\n",
        "json_object = json.loads(json_data)\n",
        "for i in json_object:\n",
        "  print(i[\"Name\"]+\"\\n\"+i[\"Designation\"])\n"
      ],
      "metadata": {
        "colab": {
          "base_uri": "https://localhost:8080/"
        },
        "id": "V4_o7FOW93JI",
        "outputId": "ce3c7b72-ca57-4a60-8aaf-fd473595301d"
      },
      "execution_count": null,
      "outputs": [
        {
          "output_type": "stream",
          "name": "stdout",
          "text": [
            "Abhishek\n",
            "Software Engineer\n",
            "Garima\n",
            "Email Marketing Specialist\n"
          ]
        }
      ]
    },
    {
      "cell_type": "code",
      "source": [
        "import json\n",
        "import requests\n",
        "\n",
        "# defining key/request url\n",
        "key = \"https://api.binance.com/api/v3/ticker/price?symbol=BTCUSDT\"\n",
        "\n",
        "# requesting data from url\n",
        "data = requests.get(key)\n",
        "data = data.json()\n",
        "print(f\"{data['symbol']} price is {data['price']}\")"
      ],
      "metadata": {
        "id": "0LioUafsCj2-"
      },
      "execution_count": null,
      "outputs": []
    },
    {
      "cell_type": "code",
      "source": [
        "try:\n",
        "# For Python 3.0 and later\n",
        "    from urllib.request import urlopen\n",
        "except ImportError:\n",
        "# Fall back to Python 2's urllib2\n",
        "    from urllib2 import urlopen\n",
        "\n",
        "import json\n",
        "\n",
        "def get_jsonparsed_data(url):\n",
        "\n",
        "  response = urlopen(url)\n",
        "  data = response.read().decode(\"utf-8\")\n",
        "  return json.loads(data)\n",
        "\n",
        "url = (\"https://financialmodelingprep.com/api/v3/historical-price-full/crypto/BTCUSD?apikey=myKey\")\n",
        "\n",
        "myData = get_jsonparsed_data(url)"
      ],
      "metadata": {
        "id": "P0K4WCQqv_a3"
      },
      "execution_count": null,
      "outputs": []
    }
  ]
}