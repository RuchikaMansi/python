{
  "nbformat": 4,
  "nbformat_minor": 0,
  "metadata": {
    "colab": {
      "provenance": [],
      "authorship_tag": "ABX9TyPmkXKlcf8P8vIkAG8Z2ovj",
      "include_colab_link": true
    },
    "kernelspec": {
      "name": "python3",
      "display_name": "Python 3"
    },
    "language_info": {
      "name": "python"
    }
  },
  "cells": [
    {
      "cell_type": "markdown",
      "metadata": {
        "id": "view-in-github",
        "colab_type": "text"
      },
      "source": [
        "<a href=\"https://colab.research.google.com/github/RuchikaMansi/ruchu263/blob/main/function.ipynb\" target=\"_parent\"><img src=\"https://colab.research.google.com/assets/colab-badge.svg\" alt=\"Open In Colab\"/></a>"
      ]
    },
    {
      "cell_type": "code",
      "execution_count": null,
      "metadata": {
        "colab": {
          "base_uri": "https://localhost:8080/"
        },
        "id": "DVmtSl1eBqxL",
        "outputId": "57cb6413-8fae-43c3-b188-f711c41805fa"
      },
      "outputs": [
        {
          "output_type": "stream",
          "name": "stdout",
          "text": [
            "hello\n"
          ]
        }
      ],
      "source": [
        "def message():\n",
        "  print(\"hello\")\n",
        "message()"
      ]
    },
    {
      "cell_type": "code",
      "source": [
        "def add(*args):\n",
        "  length=len(args)\n",
        "  print(args[length-1])\n",
        "add(1,2,3,4,5)\n",
        "add(1,2,3,4)\n",
        "add(1,2,3)\n",
        "add(1,2)\n",
        "add(1)\n",
        "\n"
      ],
      "metadata": {
        "colab": {
          "base_uri": "https://localhost:8080/"
        },
        "id": "UP6iOTamDVN4",
        "outputId": "b087e465-4cc8-4eb5-9823-b31a7a931004"
      },
      "execution_count": null,
      "outputs": [
        {
          "output_type": "stream",
          "name": "stdout",
          "text": [
            "5\n",
            "4\n",
            "3\n",
            "2\n"
          ]
        }
      ]
    },
    {
      "cell_type": "code",
      "source": [
        "def add(a,b):\n",
        "  c=a+b\n",
        "  print(\"addition:\",c)\n",
        "add(5,6)"
      ],
      "metadata": {
        "colab": {
          "base_uri": "https://localhost:8080/"
        },
        "id": "ETkw9QASFAAs",
        "outputId": "963eb218-2bcf-40f7-9ccd-c1d744f0d5bf"
      },
      "execution_count": null,
      "outputs": [
        {
          "output_type": "stream",
          "name": "stdout",
          "text": [
            "addition: 11\n"
          ]
        }
      ]
    },
    {
      "cell_type": "code",
      "source": [
        "def add(a,b,c):\n",
        "  return a+b+c\n",
        "x=add(5,6,7)\n",
        "z=add(6,3,9)\n",
        "print(\"addition of a,b,c:\",x,z)\n",
        "\n",
        "\n",
        "\n",
        "\n",
        "\n",
        "\n",
        "\n",
        "\n",
        "\n",
        "\n",
        "\n",
        "\n",
        "\n"
      ],
      "metadata": {
        "colab": {
          "base_uri": "https://localhost:8080/"
        },
        "id": "mbvXd_xtGCrL",
        "outputId": "8a200b39-d4dd-4931-95b1-c3b58f21f210"
      },
      "execution_count": null,
      "outputs": [
        {
          "output_type": "stream",
          "name": "stdout",
          "text": [
            "addition of a,b,c: 18 18\n"
          ]
        }
      ]
    },
    {
      "cell_type": "code",
      "source": [
        "n=int(input())\n",
        "for i in range(2,n):\n",
        "  if n%i==0:\n",
        "    print(\"not prime number\")\n",
        "    break\n",
        "else:\n",
        "  print(\"prime number\")\n",
        "\n",
        "\n",
        "\n",
        "\n",
        "\n",
        "\n"
      ],
      "metadata": {
        "colab": {
          "base_uri": "https://localhost:8080/"
        },
        "id": "ctEQSFsiNrLZ",
        "outputId": "a1255153-8342-4869-95b6-e9a174ee758d"
      },
      "execution_count": null,
      "outputs": [
        {
          "output_type": "stream",
          "name": "stdout",
          "text": [
            "5\n",
            "prime number\n"
          ]
        }
      ]
    },
    {
      "cell_type": "code",
      "source": [
        "def prime(n):\n",
        "  for i in range(1,n-1):\n",
        "    fact=0\n",
        "    if n%i==0:\n",
        "      fact=fact+1\n",
        "    if fact==2:\n",
        "      print(\"prime number\")\n",
        "  else:\n",
        "    print(\"not a prime number\")\n",
        "n=int(input())\n",
        "prime(n)\n",
        "\n",
        "\n",
        "\n",
        "\n"
      ],
      "metadata": {
        "colab": {
          "base_uri": "https://localhost:8080/"
        },
        "id": "cLsNhNooPnOI",
        "outputId": "02264c8d-b32d-4165-e1e9-5838375307fc"
      },
      "execution_count": null,
      "outputs": [
        {
          "output_type": "stream",
          "name": "stdout",
          "text": [
            "4\n",
            "not a prime number\n"
          ]
        }
      ]
    },
    {
      "cell_type": "code",
      "source": [
        "def factorial():\n",
        "  i=int(input())\n",
        "  fact=1\n",
        "  while i>0:\n",
        "    fact=fact*i\n",
        "    i=i-1\n",
        "  print(\"factorial is:\",fact)\n",
        "factorial()\n"
      ],
      "metadata": {
        "colab": {
          "base_uri": "https://localhost:8080/"
        },
        "id": "LYGSxND2VVwf",
        "outputId": "8f96cb8e-54e1-4746-c379-b7cdfb0cfe2d"
      },
      "execution_count": 20,
      "outputs": [
        {
          "output_type": "stream",
          "name": "stdout",
          "text": [
            "5\n",
            "factorial is: 120\n"
          ]
        }
      ]
    },
    {
      "cell_type": "code",
      "source": [
        "i=int(input())\n",
        "a=i\n",
        "sum=0\n",
        "while i>0:\n",
        "  sum=sum+(i%10)*(i%10)*(i%10)\n",
        "  i=i//10\n",
        "if a==sum:\n",
        "    print(\"armstrong number\")\n",
        "else:\n",
        "    print(\"not an armstrong number\")\n"
      ],
      "metadata": {
        "colab": {
          "base_uri": "https://localhost:8080/"
        },
        "id": "ROSqH_qRdMxj",
        "outputId": "783df644-8570-48e2-bc88-127013531619"
      },
      "execution_count": 23,
      "outputs": [
        {
          "output_type": "stream",
          "name": "stdout",
          "text": [
            "153\n",
            "armstrong number\n"
          ]
        }
      ]
    }
  ]
}