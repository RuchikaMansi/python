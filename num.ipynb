{
  "nbformat": 4,
  "nbformat_minor": 0,
  "metadata": {
    "colab": {
      "provenance": [],
      "authorship_tag": "ABX9TyNdP2roYFFItvSyRh6AX1Mn",
      "include_colab_link": true
    },
    "kernelspec": {
      "name": "python3",
      "display_name": "Python 3"
    },
    "language_info": {
      "name": "python"
    }
  },
  "cells": [
    {
      "cell_type": "markdown",
      "metadata": {
        "id": "view-in-github",
        "colab_type": "text"
      },
      "source": [
        "<a href=\"https://colab.research.google.com/github/RuchikaMansi/python/blob/main/num.ipynb\" target=\"_parent\"><img src=\"https://colab.research.google.com/assets/colab-badge.svg\" alt=\"Open In Colab\"/></a>"
      ]
    },
    {
      "cell_type": "code",
      "execution_count": 2,
      "metadata": {
        "colab": {
          "base_uri": "https://localhost:8080/"
        },
        "id": "utpAHMkLbJpl",
        "outputId": "faef68b1-e962-41d1-f8b3-07dc04204174"
      },
      "outputs": [
        {
          "output_type": "stream",
          "name": "stdout",
          "text": [
            "enter the value\n",
            "5\n",
            "five\n"
          ]
        }
      ],
      "source": [
        "print('enter the value')\n",
        "a=input()\n",
        "a=int(a)\n",
        "if a>10:\n",
        "  print('false')\n",
        "elif a==1:\n",
        "  print('one')\n",
        "elif a==2:\n",
        "  print('two')\n",
        "elif a==3:\n",
        "  print('three')\n",
        "elif a==4:\n",
        "  print('four')\n",
        "elif a==5:\n",
        "  print('five')\n",
        "elif a==6:\n",
        "  print('six')\n",
        "elif a==7:\n",
        "  print('seven')\n",
        "elif a==8:\n",
        "  print('eight')\n",
        "elif a==9:\n",
        "  print('nine')\n",
        "else:\n",
        "  print('false')"
      ]
    }
  ]
}