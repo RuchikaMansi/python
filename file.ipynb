{
  "nbformat": 4,
  "nbformat_minor": 0,
  "metadata": {
    "colab": {
      "provenance": [],
      "authorship_tag": "ABX9TyNVnfhbEnPSpXijt5ERlgWv",
      "include_colab_link": true
    },
    "kernelspec": {
      "name": "python3",
      "display_name": "Python 3"
    },
    "language_info": {
      "name": "python"
    }
  },
  "cells": [
    {
      "cell_type": "markdown",
      "metadata": {
        "id": "view-in-github",
        "colab_type": "text"
      },
      "source": [
        "<a href=\"https://colab.research.google.com/github/RuchikaMansi/ruchu263/blob/main/file.ipynb\" target=\"_parent\"><img src=\"https://colab.research.google.com/assets/colab-badge.svg\" alt=\"Open In Colab\"/></a>"
      ]
    },
    {
      "cell_type": "code",
      "execution_count": null,
      "metadata": {
        "colab": {
          "base_uri": "https://localhost:8080/",
          "height": 35
        },
        "id": "ugYfSSFNkoUH",
        "outputId": "54b8771d-ea1d-46e6-87f7-d1845d2c5717"
      },
      "outputs": [
        {
          "output_type": "execute_result",
          "data": {
            "text/plain": [
              "'hlo crazy'"
            ],
            "application/vnd.google.colaboratory.intrinsic+json": {
              "type": "string"
            }
          },
          "metadata": {},
          "execution_count": 6
        }
      ],
      "source": [
        "f=open(\"hr.txt\")\n",
        "f.read()"
      ]
    },
    {
      "cell_type": "code",
      "source": [
        "f=open(\"hr.txt\")\n",
        "for line in f:\n",
        "    print(line)\n",
        "f.close()"
      ],
      "metadata": {
        "colab": {
          "base_uri": "https://localhost:8080/"
        },
        "id": "QKOsxF1GarOX",
        "outputId": "a7b58fec-b9bf-49d2-bfec-2d090ac847c5"
      },
      "execution_count": 12,
      "outputs": [
        {
          "output_type": "stream",
          "name": "stdout",
          "text": [
            "now its time to fun\n",
            "\n",
            " do you enjoy the party\n",
            "\n",
            " are you crazy dancer\n",
            "\n",
            "friend\n"
          ]
        }
      ]
    },
    {
      "cell_type": "code",
      "source": [
        "f=open(\"hr.txt\",\"w\")\n",
        "f.writelines(\"now its time to fun\\n do you enjoy the party\\n are you crazy dancer\\n\")\n",
        "f.close()\n",
        "f=open(\"hr.txt\")\n",
        "f.read()"
      ],
      "metadata": {
        "colab": {
          "base_uri": "https://localhost:8080/",
          "height": 35
        },
        "id": "15DMyt70cWXl",
        "outputId": "df0d2059-85be-4fb6-9e1d-4b1d0fec0b24"
      },
      "execution_count": 10,
      "outputs": [
        {
          "output_type": "execute_result",
          "data": {
            "text/plain": [
              "'now its time to fun\\n do you enjoy the party\\n are you crazy dancer\\n'"
            ],
            "application/vnd.google.colaboratory.intrinsic+json": {
              "type": "string"
            }
          },
          "metadata": {},
          "execution_count": 10
        }
      ]
    },
    {
      "cell_type": "code",
      "source": [
        "f=open(\"hr.txt\",\"w\")\n",
        "f.write(\"bestie\")\n",
        "f.close()\n",
        "f=open(\"hr.txt\")\n",
        "f.read()"
      ],
      "metadata": {
        "colab": {
          "base_uri": "https://localhost:8080/",
          "height": 35
        },
        "id": "eljk5RmHk0XP",
        "outputId": "99e21114-b52d-48b4-f168-21570d9157b0"
      },
      "execution_count": null,
      "outputs": [
        {
          "output_type": "execute_result",
          "data": {
            "text/plain": [
              "'bestie'"
            ],
            "application/vnd.google.colaboratory.intrinsic+json": {
              "type": "string"
            }
          },
          "metadata": {},
          "execution_count": 10
        }
      ]
    },
    {
      "cell_type": "code",
      "source": [
        "f=open(\"hr.txt\",\"a\")\n",
        "f.write(\"friend\")\n",
        "f.close()\n",
        "f=open(\"hr.txt\")\n",
        "f.read()"
      ],
      "metadata": {
        "colab": {
          "base_uri": "https://localhost:8080/",
          "height": 35
        },
        "id": "lGLfDewIddAv",
        "outputId": "7fdd57db-74c0-4d57-b023-111ece993213"
      },
      "execution_count": 11,
      "outputs": [
        {
          "output_type": "execute_result",
          "data": {
            "text/plain": [
              "'now its time to fun\\n do you enjoy the party\\n are you crazy dancer\\nfriend'"
            ],
            "application/vnd.google.colaboratory.intrinsic+json": {
              "type": "string"
            }
          },
          "metadata": {},
          "execution_count": 11
        }
      ]
    },
    {
      "cell_type": "code",
      "source": [
        "f=open(\"hr.txt\")\n",
        "f.readline()"
      ],
      "metadata": {
        "colab": {
          "base_uri": "https://localhost:8080/",
          "height": 35
        },
        "id": "hTE3gdO-mYiP",
        "outputId": "76f81514-3c9f-4fc2-fbba-7ad6826abafe"
      },
      "execution_count": null,
      "outputs": [
        {
          "output_type": "execute_result",
          "data": {
            "text/plain": [
              "'bestiefriend'"
            ],
            "application/vnd.google.colaboratory.intrinsic+json": {
              "type": "string"
            }
          },
          "metadata": {},
          "execution_count": 13
        }
      ]
    }
  ]
}